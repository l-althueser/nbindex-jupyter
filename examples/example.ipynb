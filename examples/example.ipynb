{
 "cells": [
  {
   "cell_type": "markdown",
   "metadata": {},
   "source": [
    "# Example notebook\n",
    ".. some of the features won't work in the GitHub Viewer ;)\n",
    "\n",
    "## Adding floating ToC and CodeHider"
   ]
  },
  {
   "cell_type": "code",
   "execution_count": 6,
   "metadata": {
    "collapsed": false
   },
   "outputs": [
    {
     "data": {
      "text/html": [
       "<script>\n",
       "// Converts integer to roman numeral\n",
       "function romanize(num) {\n",
       "    var lookup = {M:1000,CM:900,D:500,CD:400,C:100,XC:90,L:50,XL:40,X:10,IX:9,V:5,IV:4,I:1},\n",
       "        roman = '',\n",
       "        i;\n",
       "    for ( i in lookup ) {\n",
       "        while ( num >= lookup[i] ) {\n",
       "        roman += i;\n",
       "        num -= lookup[i];\n",
       "        }\n",
       "    }\n",
       "    return roman;\n",
       "}\n",
       "\n",
       "////////////////////////////////////////////////////////////////////////////////\n",
       "\n",
       "// Builds a <ul> Table of Contents from all <headers> in DOM\n",
       "function createTOC(toc_tag){\n",
       "    var toc = \"\";\n",
       "    var level = 0;\n",
       "    var maxlevel = 1 + 3;\n",
       "    var levels = {};\n",
       "    $('#'+toc_tag).html('');\n",
       "\n",
       "    $(\":header\").each(function(i){\n",
       "        if (this.id=='tocheading'){return;}\n",
       "        if (this.tagName[1] >= maxlevel){return;}\n",
       "\n",
       "        var titleText = this.innerHTML;\n",
       "        var openLevel = this.tagName[1];\n",
       "\n",
       "        // Wiki hacks\n",
       "        if (titleText.indexOf(\"User Tools\") !== -1){return;}\n",
       "        if (titleText.indexOf(\"Site Tools\") !== -1){return;}\n",
       "        if (titleText.indexOf(\"Page Tools\") !== -1){return;}\n",
       "        if (titleText.indexOf(\"XENON1TWiki\") !== -1){return;}\n",
       "\n",
       "        if (levels[openLevel]){\n",
       "        levels[openLevel] += 1;\n",
       "        } else{\n",
       "        levels[openLevel] = 1;\n",
       "        }\n",
       "\n",
       "        if (openLevel > level) {\n",
       "        toc += (new Array(openLevel - level + 1)).join('<ul class=\"'+toc_tag+'\">');\n",
       "        } else if (openLevel < level) {\n",
       "        toc += (new Array(level - openLevel + 1)).join(\"</ul>\");\n",
       "        for (i=level;i>openLevel;i--){levels[i]=0;}\n",
       "        }\n",
       "\n",
       "        level = parseInt(openLevel);\n",
       "\n",
       "        if (this.id==''){this.id = this.innerHTML.replace(/ /g,\"-\")}\n",
       "        var anchor = this.id;\n",
       "\n",
       "        toc += '<li><a href=\"#' + escape(anchor) + '\">'\n",
       "        + romanize(levels[openLevel].toString()) + '. ' + titleText\n",
       "        + '</a></li>';\n",
       "\n",
       "    });\n",
       "\n",
       "    if (level) {\n",
       "    toc += (new Array(level + 1)).join(\"</ul>\");\n",
       "    }\n",
       "\n",
       "    $('#'+toc_tag).append(toc);\n",
       "};\n",
       "\n",
       "////////////////////////////////////////////////////////////////////////////////\n",
       "\n",
       "// Executes the createTOC_inline function\n",
       "setTimeout(function(){createTOC('tocinline');},1000);\n",
       "setTimeout(function(){createTOC('tocinline');},5000);\n",
       "setTimeout(function(){createTOC('tocinline');},15000);\n",
       "\n",
       "// Rebuild TOC_inline every 5 minutes\n",
       "setInterval(function(){createTOC('tocinline');},300000);\n",
       "\n",
       "////////////////////////////////////////////////////////////////////////////////\n",
       "\n",
       "$('<div id=\"toc\"></div>').css({position: 'fixed', top: '160px', right: 20, background: \"rgba(255, 255, 255, 0.6)\"}).appendTo(document.body);\n",
       "$(\"#toc\").css(\"z-index\", \"2000\");\n",
       "\n",
       "// Executes the createToc function\n",
       "setTimeout(function(){createTOC('toc');},100);\n",
       "setTimeout(function(){createTOC('toc');},5000);\n",
       "setTimeout(function(){createTOC('toc');},15000);\n",
       "\n",
       "// Rebuild TOC every 5 minutes\n",
       "setInterval(function(){createTOC('toc');},300000);\n",
       "\n",
       "////////////////////////////////////////////////////////////////////////////////\n",
       "\n",
       "function toc_toggle() {\n",
       " if ($('#toc').is(':visible')){\n",
       "     $('#toc').hide('500');\n",
       "     $('#tocButton').val('Show table of content')\n",
       " } else {\n",
       "     $('#toc').show('500');\n",
       "     $('#tocButton').val('Hide table of content')\n",
       " }\n",
       "}\n",
       "\n",
       "if (!($('#tocButton').length)) {\n",
       "    $('<form action=\"javascript:toc_toggle()\" id=\"tocButtonForm\"><input type=\"submit\" id=\"tocButton\" value=\"Hide table of content\"></form>').css({position: 'fixed', top: \"135px\", right: \"20px\", background: \"rgba(255, 255, 255, 0.6)\"}).appendTo(document.body);\n",
       "} else {\n",
       "    document.getElementById('tocButtonForm').style.top = \"135px\";\n",
       "    document.getElementById('tocButtonForm').style.right = \"20px\";\n",
       "    $('#tocButton').val('Hide table of content')\n",
       "}\n",
       "\n",
       "////////////////////////////////////////////////////////////////////////////////\n",
       "\n",
       "</script>\n"
      ],
      "text/plain": [
       "<IPython.core.display.HTML object>"
      ]
     },
     "metadata": {},
     "output_type": "display_data"
    },
    {
     "data": {
      "text/html": [
       "\n",
       "        <script>\n",
       "        function code_toggle() {\n",
       "         if ($(\"div.input\").is(':visible')){\n",
       "             $(\"div.input\").hide('500');\n",
       "             $('#CodeButton').val('Show all Code');\n",
       "             $('#CodeButton_inline').val('Show all code in this notebook');\n",
       "         } else {\n",
       "             $(\"div.input\").show('500');\n",
       "             $('#CodeButton').val('Hide all Code');\n",
       "             $('#CodeButton_inline').val('Hide all code in this notebook');\n",
       "         }\n",
       "        }\n",
       "\n",
       "        $( document ).ready(function(){ $('div.input').hide() });\n",
       "\n",
       "        if (!($('#CodeButton').length)) {\n",
       "            $('<form action=\"javascript:code_toggle()\" id=\"CodeButtonForm\"><input type=\"submit\" id=\"CodeButton\" value=\"Show all code\"></form>').css({position: 'fixed', top: \"110px\", right: \"20px\", background: \"rgba(255, 255, 255, 0.6)\"}).appendTo(document.body);\n",
       "        } else {\n",
       "            document.getElementById('CodeButtonForm').style.top = \"110px\";\n",
       "            document.getElementById('CodeButtonForm').style.right = \"20px\";\n",
       "            $('#CodeButton').val('Show all Code');\n",
       "        }\n",
       "\n",
       "        </script>\n",
       "\n",
       "        <form action=\"javascript:code_toggle()\"><input type=\"submit\" id=\"CodeButton_inline\" value=\"Show all code in this notebook\"></form>\n",
       "        "
      ],
      "text/plain": [
       "<IPython.core.display.HTML object>"
      ]
     },
     "metadata": {},
     "output_type": "display_data"
    }
   ],
   "source": [
    "from nbindex import utils, floating\n",
    "floating.tableofcontent()\n",
    "floating.codehider()"
   ]
  },
  {
   "cell_type": "markdown",
   "metadata": {},
   "source": [
    "## Playing with numbered objects\n",
    "[Go to Figure 2](#Figure-2)"
   ]
  },
  {
   "cell_type": "code",
   "execution_count": 2,
   "metadata": {
    "collapsed": false
   },
   "outputs": [
    {
     "data": {
      "text/html": [
       "<div id=\"Figure\"></div>\n",
       "    <script>\n",
       "    var fignb = 1;\n",
       "    var key = \"Figure\"\n",
       "    $(\"div\").each(function(i){\n",
       "        if (this.id === key){\n",
       "            this.innerHTML = '<a name=\"' + key + '-' + fignb.toString() + '\"></a>' +\n",
       "                             '<a class=\"anchor\" href=\"#' + key + '-' + fignb.toString() +'\"><b><i>' + key.charAt(0).toUpperCase() + key.slice(1) + ' ' + fignb.toString() + '</i></b></a>';\n",
       "            fignb += 1;\n",
       "        }\n",
       "    });\n",
       "    </script>\n",
       "    "
      ],
      "text/plain": [
       "<IPython.core.display.HTML object>"
      ]
     },
     "metadata": {},
     "output_type": "display_data"
    }
   ],
   "source": [
    "from nbindex import numbered\n",
    "numbered.Figure()"
   ]
  },
  {
   "cell_type": "code",
   "execution_count": 5,
   "metadata": {
    "collapsed": false
   },
   "outputs": [
    {
     "data": {
      "text/html": [
       "<div id=\"Figure\"></div>\n",
       "    <script>\n",
       "    var fignb = 1;\n",
       "    var key = \"Figure\"\n",
       "    $(\"div\").each(function(i){\n",
       "        if (this.id === key){\n",
       "            this.innerHTML = '<a name=\"' + key + '-' + fignb.toString() + '\"></a>' +\n",
       "                             '<a class=\"anchor\" href=\"#' + key + '-' + fignb.toString() +'\"><b><i>' + key.charAt(0).toUpperCase() + key.slice(1) + ' ' + fignb.toString() + '</i></b></a>';\n",
       "            fignb += 1;\n",
       "        }\n",
       "    });\n",
       "    </script>\n",
       "    "
      ],
      "text/plain": [
       "<IPython.core.display.HTML object>"
      ]
     },
     "metadata": {},
     "output_type": "display_data"
    }
   ],
   "source": [
    "numbered.Figure()"
   ]
  },
  {
   "cell_type": "code",
   "execution_count": 3,
   "metadata": {
    "collapsed": false
   },
   "outputs": [
    {
     "data": {
      "text/html": [
       "<div id=\"Figure\"></div>\n",
       "    <script>\n",
       "    var fignb = 1;\n",
       "    var key = \"Figure\"\n",
       "    $(\"div\").each(function(i){\n",
       "        if (this.id === key){\n",
       "            this.innerHTML = '<a name=\"' + key + '-' + fignb.toString() + '\"></a>' +\n",
       "                             '<a class=\"anchor\" href=\"#' + key + '-' + fignb.toString() +'\"><b><i>' + key.charAt(0).toUpperCase() + key.slice(1) + ' ' + fignb.toString() + '</i></b></a>';\n",
       "            fignb += 1;\n",
       "        }\n",
       "    });\n",
       "    </script>\n",
       "    "
      ],
      "text/plain": [
       "<IPython.core.display.HTML object>"
      ]
     },
     "metadata": {},
     "output_type": "display_data"
    }
   ],
   "source": [
    "numbered.Figure()"
   ]
  },
  {
   "cell_type": "code",
   "execution_count": null,
   "metadata": {
    "collapsed": true
   },
   "outputs": [],
   "source": []
  }
 ],
 "metadata": {
  "kernelspec": {
   "display_name": "Python 3",
   "language": "python",
   "name": "python3"
  },
  "language_info": {
   "codemirror_mode": {
    "name": "ipython",
    "version": 3
   },
   "file_extension": ".py",
   "mimetype": "text/x-python",
   "name": "python",
   "nbconvert_exporter": "python",
   "pygments_lexer": "ipython3",
   "version": "3.4.5"
  }
 },
 "nbformat": 4,
 "nbformat_minor": 2
}
